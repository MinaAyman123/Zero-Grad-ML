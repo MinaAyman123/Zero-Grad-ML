{
 "cells": [
  {
   "cell_type": "code",
   "execution_count": 1,
   "id": "eb59db3e",
   "metadata": {},
   "outputs": [],
   "source": [
    "from random import choice\n"
   ]
  },
  {
   "cell_type": "code",
   "execution_count": 2,
   "id": "b01a5d14",
   "metadata": {},
   "outputs": [],
   "source": [
    "def Message():\n",
    "    print(\"Welcome in Guess Word\")\n"
   ]
  },
  {
   "cell_type": "code",
   "execution_count": 3,
   "id": "6c2b2bd7",
   "metadata": {},
   "outputs": [],
   "source": [
    "def Choice_Level():\n",
    "    \"\"\"Ask the player to choose a difficulty level and return the number of attempts.\"\"\"\n",
    "    print(\"PLease enter Level\\n - Easy\\n - Meduim\\n - Hard\")\n",
    "    levels = {'Easy': 15, 'Meduim': 10, 'Hard': 6}\n",
    "    while True:\n",
    "        level=input(\"Level : \").capitalize()\n",
    "        if level in levels:\n",
    "            return levels[level]\n",
    "        print('Please enter Valid Level')\n"
   ]
  },
  {
   "cell_type": "code",
   "execution_count": 4,
   "id": "dc5e298e",
   "metadata": {},
   "outputs": [],
   "source": [
    "def Choice_word():\n",
    "    \"\"\"Ask the player to choose a category, then randomly select a word from it.\"\"\"\n",
    "    \n",
    "    \n",
    "    print(\"Choose a category:\\n - Animal\\n - City\\n - Food\\n - Job\\n - Nation\")\n",
    "    dic={\n",
    "        \"Animal\" : ['Cat','Dog','Lion','Elephant','Zebra','Monkey','Dolphin','Tiger','Giraffe','Bear','Kangaroo','Crocodile','Horse','Panda','Wolf','Fox','Deer','Rabbit','Owl','Camel','Shark','Penguin'],\n",
    "        'City' : ['Cairo','Paris','Tokyo','New York','Sydney','London','Dubai','Rome','Berlin','Toronto','Istanbul','Beijing','Madrid','Buenos Aires','Moscow','Athens','Los Angeles','Chicago','Seoul','Bangkok'],\n",
    "        'Food' : ['Pizza' , 'Rice', 'Chicken', 'Burger', 'Pasta', 'Sushi', 'Salad', 'Sandwich', 'Steak', 'Ice cream', 'Tacos','Fruits','Soup','Noodles','Cake','Curry','Bread','Chocolate','Fries','Dumplings' ],\n",
    "        'Job' : ['Engineer' , 'Doctor', 'Teacher', 'Chef', 'Pilot', 'Artist', 'Accountant', 'Lawyer', 'Nurse', 'Mechanic','Scientist','Dentist','Firefighter','Pharmacist','Driver','Plumber','Electrician','Photographer','Architect'],\n",
    "        'Nation' : ['Egypt' , 'France', 'Japan', 'Brazil', 'Canada', 'India', 'China', 'Germany', 'Mexico', 'South Africa','Russia','Spain','Italy','Argentina','Nigeria','Thailand','Turkey','Sweden','Norway','Pakistan']\n",
    "    }\n",
    "    while True:\n",
    "        ch=input(\"Your Choice : \").title()\n",
    "        if ch in dic.keys():\n",
    "            print(\"Word Selected\")\n",
    "            return choice(dic[ch])\n",
    "        print(\"please enter valid choice\")\n"
   ]
  },
  {
   "cell_type": "code",
   "execution_count": 5,
   "id": "f420f9f9",
   "metadata": {},
   "outputs": [],
   "source": [
    "def Show_Word(word,lis_word):\n",
    "    \"\"\"Display the current state of the word with guessed letters revealed and others hidden.\"\"\"\n",
    "    \n",
    "    result=[]\n",
    "    for i, ch in enumerate(word):\n",
    "        if  lis_word.count(ch) > word[:i+1].count(ch)-1:\n",
    "            result.append(ch)\n",
    "        else:\n",
    "            result.append('-')\n",
    "    print(\"Word:\", ''.join(result))\n"
   ]
  },
  {
   "cell_type": "code",
   "execution_count": 6,
   "id": "1e86b874",
   "metadata": {},
   "outputs": [],
   "source": [
    "def take_input(word,lis_word,ntime):\n",
    "    \"\"\"Take a letter from the player, update guessed letters or decrease attempts.\"\"\"\n",
    "    while True:\n",
    "        if ntime==0:\n",
    "            return 0\n",
    "        letter=input(\"Letter : \")\n",
    "        if (letter in word and letter not in lis_word) or (word.count(letter) != lis_word.count(letter)):\n",
    "            print(\"#\"*50)\n",
    "            print(\"Correct guess\")\n",
    "            lis_word.append(letter)\n",
    "            return ntime\n",
    "        elif len(letter)!=1:\n",
    "            print(f'Please Enter single Letter | Attempts left: {ntime-1}')\n",
    "        else:\n",
    "            print(f\"Please enter valid Letter | Attempts left: {ntime-1}\")\n",
    "        ntime-=1\n"
   ]
  },
  {
   "cell_type": "code",
   "execution_count": 7,
   "id": "64791da5",
   "metadata": {},
   "outputs": [],
   "source": [
    "def play():\n",
    "    \"\"\"Main function to run the Guess Word game.\"\"\"\n",
    "    \n",
    "    Message()\n",
    "    ntime=Choice_Level()\n",
    "    word=Choice_word().lower()\n",
    "    lis_word=[]\n",
    "    while True:\n",
    "        Show_Word(word,lis_word)\n",
    "        print(f\"Attempts left: {ntime}\")\n",
    "        ntime=take_input(word,lis_word,ntime)\n",
    "        if ntime==0 :\n",
    "            print(f'You are lose the word : {word.capitalize()}')\n",
    "            return\n",
    "        if len(word) ==len(lis_word):\n",
    "            print(f\"You won! The word was: {word.capitalize()}\")\n",
    "            return\n",
    "        print(\"#\"*50)\n",
    "\n"
   ]
  },
  {
   "cell_type": "code",
   "execution_count": 8,
   "id": "c8dac05d",
   "metadata": {},
   "outputs": [
    {
     "name": "stdout",
     "output_type": "stream",
     "text": [
      "Welcome in Guess Word\n",
      "PLease enter Level\n",
      " - Easy\n",
      " - Meduim\n",
      " - Hard\n",
      "Choose a category:\n",
      " - Animal\n",
      " - City\n",
      " - Food\n",
      " - Job\n",
      " - Nation\n",
      "Word Selected\n",
      "Word: ------\n",
      "Attempts left: 6\n",
      "Please enter valid Letter | Attempts left: 5\n",
      "Please enter valid Letter | Attempts left: 4\n",
      "Please enter valid Letter | Attempts left: 3\n",
      "Please enter valid Letter | Attempts left: 2\n",
      "Please enter valid Letter | Attempts left: 1\n",
      "Please enter valid Letter | Attempts left: 0\n",
      "You are lose the word : Berlin\n"
     ]
    }
   ],
   "source": [
    "\n",
    "if __name__=='__main__':\n",
    "    play()\n",
    "\n"
   ]
  }
 ],
 "metadata": {
  "kernelspec": {
   "display_name": "Python 3",
   "language": "python",
   "name": "python3"
  },
  "language_info": {
   "codemirror_mode": {
    "name": "ipython",
    "version": 3
   },
   "file_extension": ".py",
   "mimetype": "text/x-python",
   "name": "python",
   "nbconvert_exporter": "python",
   "pygments_lexer": "ipython3",
   "version": "3.13.2"
  }
 },
 "nbformat": 4,
 "nbformat_minor": 5
}
